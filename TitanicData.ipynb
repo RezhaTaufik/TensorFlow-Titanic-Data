{
  "nbformat": 4,
  "nbformat_minor": 0,
  "metadata": {
    "colab": {
      "provenance": [],
      "authorship_tag": "ABX9TyM8bUW6VpE0ApsdRsKbctUj",
      "include_colab_link": true
    },
    "kernelspec": {
      "name": "python3",
      "display_name": "Python 3"
    },
    "language_info": {
      "name": "python"
    }
  },
  "cells": [
    {
      "cell_type": "markdown",
      "metadata": {
        "id": "view-in-github",
        "colab_type": "text"
      },
      "source": [
        "<a href=\"https://colab.research.google.com/github/RezhaTaufik/TensorFlow-Titanic-Data/blob/main/TitanicData.ipynb\" target=\"_parent\"><img src=\"https://colab.research.google.com/assets/colab-badge.svg\" alt=\"Open In Colab\"/></a>"
      ]
    },
    {
      "cell_type": "code",
      "execution_count": null,
      "metadata": {
        "id": "7qYHuo7ufebz"
      },
      "outputs": [],
      "source": [
        "from __future__ import absolute_import, division, print_function, unicode_literals\n",
        "\n",
        "import numpy as np\n",
        "import pandas as pd\n",
        "import matplotlib.pyplot as plt\n",
        "from IPython.display import clear_output\n",
        "from six.moves import urllib\n",
        "\n",
        "import tensorflow.compat.v2.feature_column as fc\n",
        "\n",
        "import tensorflow as tf"
      ]
    },
    {
      "cell_type": "markdown",
      "source": [
        "Linear Regression : A method to predict the next value of data sets / for assumption\n",
        "\n",
        "Y = mx + b\n",
        "M = slope\n",
        "\n",
        "Linear regression allows us to predict stuff irl as well, like life expectancy, grades score, etc.\n",
        "As long as our data lines correlate, we can predict the outcome of the next value\n",
        "\n",
        "dftrain.head() // Shows data in a nice way \n",
        "Head will show the first 5 data in our dataset\n",
        "\n",
        "Categorical Data : Any data thats not numerical and we have to turn them into numbers somehow\n",
        "\n",
        ".unique() // allows us to see what kind of values there are in the dataset\n",
        "For example for genders there are 2 uniques : Male and Female\n",
        "\n",
        "Epochs : How many times the model will see the same data\n",
        "When epochs see the data for the first time, it creates a line of best fit thats not great, this is where epochs comes in.\n",
        "\n",
        "Feed the model with the same data but with different order, therefore, it will slowly generate a better line of best fit \n",
        "\n",
        "Input function is how we want the data to be broken down, like what are the criteria and etc\n",
        "\n",
        "Batch_size = how many elements will we give while the data is being trained\n"
      ],
      "metadata": {
        "id": "H2zoqZCv3lMU"
      }
    },
    {
      "cell_type": "code",
      "source": [
        "dftrain = pd.read_csv ('https://storage.googleapis.com/tf-datasets/titanic/train.csv') # Training Data\n",
        "dfeval = pd.read_csv ('https://storage.googleapis.com/tf-datasets/titanic/eval.csv') # Testing Data\n",
        "y_train = dftrain.pop('survived')\n",
        "y_eval = dfeval.pop('survived')\n",
        "\n",
        "CATEGORICAL_COLUMNS = ['sex','n_siblings_spouses', 'parch','class','deck','embark_town','alone']\n",
        "\n",
        "NUMERIC_COLUMNS = ['age','fare']\n",
        "\n",
        "feature_columns = []\n",
        "\n",
        "for feature_name in CATEGORICAL_COLUMNS:\n",
        "  vocabulary = dftrain[feature_name].unique()\n",
        "  feature_columns.append(tf.feature_column.categorical_column_with_vocabulary_list(feature_name, vocabulary))\n",
        "\n",
        "for feature_name in NUMERIC_COLUMNS:\n",
        "  feature_columns.append(tf.feature_column.numeric_column(feature_name, dtype=tf.float32))\n",
        "\n",
        "print(feature_columns)"
      ],
      "metadata": {
        "colab": {
          "base_uri": "https://localhost:8080/"
        },
        "id": "mOim6VTqftxF",
        "outputId": "698b03da-8784-4f36-ec5e-3a51463f68fd"
      },
      "execution_count": null,
      "outputs": [
        {
          "output_type": "stream",
          "name": "stdout",
          "text": [
            "[VocabularyListCategoricalColumn(key='sex', vocabulary_list=('male', 'female'), dtype=tf.string, default_value=-1, num_oov_buckets=0), VocabularyListCategoricalColumn(key='n_siblings_spouses', vocabulary_list=(1, 0, 3, 4, 2, 5, 8), dtype=tf.int64, default_value=-1, num_oov_buckets=0), VocabularyListCategoricalColumn(key='parch', vocabulary_list=(0, 1, 2, 5, 3, 4), dtype=tf.int64, default_value=-1, num_oov_buckets=0), VocabularyListCategoricalColumn(key='class', vocabulary_list=('Third', 'First', 'Second'), dtype=tf.string, default_value=-1, num_oov_buckets=0), VocabularyListCategoricalColumn(key='deck', vocabulary_list=('unknown', 'C', 'G', 'A', 'B', 'D', 'F', 'E'), dtype=tf.string, default_value=-1, num_oov_buckets=0), VocabularyListCategoricalColumn(key='embark_town', vocabulary_list=('Southampton', 'Cherbourg', 'Queenstown', 'unknown'), dtype=tf.string, default_value=-1, num_oov_buckets=0), VocabularyListCategoricalColumn(key='alone', vocabulary_list=('n', 'y'), dtype=tf.string, default_value=-1, num_oov_buckets=0), NumericColumn(key='age', shape=(1,), default_value=None, dtype=tf.float32, normalizer_fn=None), NumericColumn(key='fare', shape=(1,), default_value=None, dtype=tf.float32, normalizer_fn=None)]\n"
          ]
        }
      ]
    },
    {
      "cell_type": "code",
      "source": [
        "def make_input_fn(data_df, label_df,num_epochs =10,shuffle = True,batch_size=32):\n",
        "  def input_function():\n",
        "    ds = tf.data.Dataset.from_tensor_slices((dict(data_df), label_df))\n",
        "    if shuffle :\n",
        "      ds = ds.shuffle(1000) # Randomize order data\n",
        "    ds = ds.batch(batch_size).repeat(num_epochs) # membagi data menjadi beberapa batch \n",
        "    return ds # return batch data set\n",
        "  return input_function\n",
        "\n",
        "train_input_fn = make_input_fn(dftrain, y_train)\n",
        "eval_input_fn = make_input_fn(dfeval, y_eval, num_epochs=1, shuffle=False)\n",
        "\n",
        "linear_est = tf.estimator.LinearClassifier(feature_columns=feature_columns)\n",
        "\n",
        "linear_est.train(train_input_fn) # train data\n",
        "result = linear_est.evaluate(eval_input_fn)\n",
        "\n",
        "clear_output()\n",
        "print(result['accuracy'])\n"
      ],
      "metadata": {
        "colab": {
          "base_uri": "https://localhost:8080/"
        },
        "id": "FMvtHW-2ht_g",
        "outputId": "527172ce-d3b5-4f5f-cf0d-9f107e1b1bea"
      },
      "execution_count": null,
      "outputs": [
        {
          "output_type": "stream",
          "name": "stdout",
          "text": [
            "0.74242425\n"
          ]
        }
      ]
    },
    {
      "cell_type": "code",
      "source": [
        "result = list(linear_est.predict(eval_input_fn)) # List the data\n",
        "print(dfeval.loc[3]) # memberikan data penumpang tertentu\n",
        "print(y_eval.loc[3]) # apakah mereka hidup atau tidak berdasarkan data asli \n",
        "print(result[3]['probabilities'][1]) # [3] berarti data ketiga pada dataset, [0] dan [1] kemungkinan mereka hidup atau tidak\n"
      ],
      "metadata": {
        "colab": {
          "base_uri": "https://localhost:8080/"
        },
        "id": "xYld2Q8N1O6u",
        "outputId": "33561aa4-5921-42a4-899d-681f94de6465"
      },
      "execution_count": null,
      "outputs": [
        {
          "output_type": "stream",
          "name": "stdout",
          "text": [
            "sex                        female\n",
            "age                          55.0\n",
            "n_siblings_spouses              0\n",
            "parch                           0\n",
            "fare                         16.0\n",
            "class                      Second\n",
            "deck                      unknown\n",
            "embark_town           Southampton\n",
            "alone                           y\n",
            "Name: 3, dtype: object\n",
            "1\n",
            "0.65075994\n"
          ]
        }
      ]
    },
    {
      "cell_type": "markdown",
      "source": [],
      "metadata": {
        "id": "pJvpHOFq3pPj"
      }
    }
  ]
}